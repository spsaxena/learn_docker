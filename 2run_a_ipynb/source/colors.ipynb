{
 "cells": [
  {
   "cell_type": "code",
   "execution_count": null,
   "metadata": {},
   "outputs": [],
   "source": [
    "import plotly.express as px\n",
    "import dash\n",
    "from dash import html"
   ]
  },
  {
   "cell_type": "code",
   "execution_count": null,
   "metadata": {},
   "outputs": [],
   "source": [
    "app = dash.Dash(__name__)\n",
    "\n",
    "colors = px.colors.qualitative.Plotly\n",
    "\n",
    "print(colors)\n",
    "\n",
    "swatches = html.Div(children=[\n",
    "    html.Div(style={'background-color': color, 'height': '200px', 'width': '40px', 'display': 'inline-block'})\n",
    "    for color in colors\n",
    "])\n",
    "\n",
    "swatches_container = html.Div(children=[\n",
    "    html.H3('Plotly Colors'),\n",
    "    swatches\n",
    "], style={'width': '50%', 'margin': 'auto', 'text-align': 'center', 'padding': '20px', 'border': '1px solid #ddd'})\n",
    "\n",
    "app.layout = html.Div(children=[\n",
    "    swatches_container\n",
    "])\n",
    "\n",
    "# app.run_server(port=\"8085\") - will not work in docker env\n",
    "\n",
    "# to access from same network set host as follows\n",
    "app.run_server(host=\"0.0.0.0\", port=\"8085\")"
   ]
  },
  {
   "cell_type": "code",
   "execution_count": null,
   "metadata": {},
   "outputs": [],
   "source": []
  }
 ],
 "metadata": {
  "kernelspec": {
   "display_name": "Python 3",
   "language": "python",
   "name": "python3"
  },
  "language_info": {
   "codemirror_mode": {
    "name": "ipython",
    "version": 3
   },
   "file_extension": ".py",
   "mimetype": "text/x-python",
   "name": "python",
   "nbconvert_exporter": "python",
   "pygments_lexer": "ipython3",
   "version": "3.10.12"
  },
  "orig_nbformat": 4
 },
 "nbformat": 4,
 "nbformat_minor": 2
}
